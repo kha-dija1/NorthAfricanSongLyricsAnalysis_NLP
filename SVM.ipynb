{
  "nbformat": 4,
  "nbformat_minor": 0,
  "metadata": {
    "colab": {
      "provenance": []
    },
    "kernelspec": {
      "name": "python3",
      "display_name": "Python 3"
    },
    "language_info": {
      "name": "python"
    }
  },
  "cells": [
    {
      "cell_type": "code",
      "execution_count": 1,
      "metadata": {
        "colab": {
          "base_uri": "https://localhost:8080/"
        },
        "id": "5IPMT7SrOlop",
        "outputId": "f6f341b1-aeed-4cb1-916a-67ad86639693"
      },
      "outputs": [
        {
          "output_type": "stream",
          "name": "stdout",
          "text": [
            "Accuracy: 86.43%\n",
            "              precision    recall  f1-score   support\n",
            "\n",
            "           0       0.84      0.81      0.82        72\n",
            "           1       0.86      0.75      0.80        24\n",
            "           2       0.88      0.93      0.91       103\n",
            "\n",
            "    accuracy                           0.86       199\n",
            "   macro avg       0.86      0.83      0.84       199\n",
            "weighted avg       0.86      0.86      0.86       199\n",
            "\n",
            "Confusion Matrix:\n",
            "[[58  2 12]\n",
            " [ 5 18  1]\n",
            " [ 6  1 96]]\n"
          ]
        }
      ],
      "source": [
        "import pandas as pd\n",
        "from sklearn.model_selection import train_test_split\n",
        "from sklearn.feature_extraction.text import TfidfVectorizer\n",
        "from sklearn.svm import SVC\n",
        "from sklearn.metrics import accuracy_score, classification_report, confusion_matrix\n",
        "\n",
        "# Charger les données depuis le fichier CSV (remplacez 'nom_du_fichier.csv' par le nom réel de votre fichier CSV)\n",
        "df = pd.read_csv('songs _data.csv')\n",
        "\n",
        "# Séparation des données en ensembles d'entraînement et de test\n",
        "X_train, X_test, y_train, y_test = train_test_split(df['Lyrics'], df['Dialect'], test_size=0.2, random_state=42)\n",
        "\n",
        "# Création d'un vecteur de caractéristiques TF-IDF\n",
        "tfidf_vectorizer = TfidfVectorizer(max_features=5000)  # Vous pouvez ajuster le nombre maximal de caractéristiques\n",
        "X_train_tfidf = tfidf_vectorizer.fit_transform(X_train)\n",
        "X_test_tfidf = tfidf_vectorizer.transform(X_test)\n",
        "\n",
        "# Initialisation du modèle SVM\n",
        "svm_model = SVC(kernel='linear', C=1.0, random_state=42)\n",
        "\n",
        "# Entraînement du modèle SVM\n",
        "svm_model.fit(X_train_tfidf, y_train)\n",
        "\n",
        "# Prédictions sur l'ensemble de test\n",
        "svm_predictions = svm_model.predict(X_test_tfidf)\n",
        "\n",
        "# Évaluation du modèle\n",
        "accuracy = accuracy_score(y_test, svm_predictions)\n",
        "print(f'Accuracy: {accuracy * 100:.2f}%')\n",
        "\n",
        "# Affichage du rapport de classification\n",
        "print(classification_report(y_test, svm_predictions))\n",
        "\n",
        "# Affichage de la matrice de confusion\n",
        "conf_matrix = confusion_matrix(y_test, svm_predictions)\n",
        "print('Confusion Matrix:')\n",
        "print(conf_matrix)\n"
      ]
    }
  ]
}